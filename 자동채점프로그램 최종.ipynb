{
 "cells": [
  {
   "cell_type": "code",
   "execution_count": 6,
   "metadata": {},
   "outputs": [
    {
     "name": "stdout",
     "output_type": "stream",
     "text": [
      "채점 결과 :  2604김소현.csv 의 생명과학실험.csv 과목의 총점은 82.0 점입니다\n",
      "확인 사항 : ['13.1', '20.1'] 번은 그림을 그리는 문제이므로 시험지를 확인해주세요\n",
      "틀린 문제 : ['1.2', '2.1', '3.1', '4.1', '4.4', '5.4', '6.1', '6.3.2', '7', '17.1', '18.2.3'] 번 입니다\n"
     ]
    }
   ],
   "source": [
    "import csv\n",
    "\n",
    "s = open(\"생명과학실험.csv\")\n",
    "g = csv.reader(s)\n",
    "answer = []\n",
    "number = []\n",
    "score = []\n",
    "for raw in g :\n",
    "    answer.append(raw[1])\n",
    "    number.append(raw[0])\n",
    "    score.append(raw[2])\n",
    "\n",
    "s.close()\n",
    "\n",
    "import csv\n",
    "\n",
    "f1 = open( \"2604김소현.csv\")\n",
    "g1 = csv.reader(f1)\n",
    "stanswer = []\n",
    "\n",
    "for raw in g1 :\n",
    "    stanswer.append(raw[1])\n",
    "f1.close()\n",
    "\n",
    "new = []\n",
    "for i in range(0,len(answer)) :\n",
    "    n = answer[i].split('/')\n",
    "    new.append(n)\n",
    "\n",
    "\n",
    "점수 = 0\n",
    "오답 = []\n",
    "그림문제 = []\n",
    "for j in range(0, len(stanswer)) :\n",
    "    txt = stanswer[j].upper()\n",
    "    sc = float(score[j])\n",
    "    cp = True\n",
    "    for i in range(len(new[j])) :\n",
    "        ans = new[j][i].upper()\n",
    "        if ans in txt :\n",
    "            cp = True\n",
    "        if ans not in txt :\n",
    "            cp = False\n",
    "            오답.append(number[j])\n",
    "            break\n",
    "        if str(ans) == '그림생략' :\n",
    "            n = number[j]\n",
    "            그림문제.append(n)\n",
    "    if cp :\n",
    "        점수 += sc\n",
    "\n",
    "print('채점 결과 : ',f1.name,'의',s.name,'과목의 총점은',점수,'점입니다')\n",
    "print('확인 사항 :',str(그림문제),'번은 그림을 그리는 문제이므로 시험지를 확인해주세요')\n",
    "print('틀린 문제 :',str(오답),'번 입니다')"
   ]
  },
  {
   "cell_type": "code",
   "execution_count": null,
   "metadata": {},
   "outputs": [],
   "source": []
  }
 ],
 "metadata": {
  "kernelspec": {
   "display_name": "Python 3",
   "language": "python",
   "name": "python3"
  },
  "language_info": {
   "codemirror_mode": {
    "name": "ipython",
    "version": 3
   },
   "file_extension": ".py",
   "mimetype": "text/x-python",

}
